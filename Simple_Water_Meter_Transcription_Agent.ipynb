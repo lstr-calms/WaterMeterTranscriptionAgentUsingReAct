{
  "nbformat": 4,
  "nbformat_minor": 0,
  "metadata": {
    "colab": {
      "provenance": [],
      "authorship_tag": "ABX9TyOQnpEponDB6mP0mOuczXaD",
      "include_colab_link": true
    },
    "kernelspec": {
      "name": "python3",
      "display_name": "Python 3"
    },
    "language_info": {
      "name": "python"
    }
  },
  "cells": [
    {
      "cell_type": "markdown",
      "metadata": {
        "id": "view-in-github",
        "colab_type": "text"
      },
      "source": [
        "<a href=\"https://colab.research.google.com/github/lstr-calms/WaterMeterTranscriptionAgentUsingReAct/blob/main/Simple_Water_Meter_Transcription_Agent.ipynb\" target=\"_parent\"><img src=\"https://colab.research.google.com/assets/colab-badge.svg\" alt=\"Open In Colab\"/></a>"
      ]
    },
    {
      "cell_type": "code",
      "source": [
        "#Import necessary libraries\n",
        "import re\n",
        "import json"
      ],
      "metadata": {
        "id": "haYGUJkOIj2V"
      },
      "execution_count": 25,
      "outputs": []
    },
    {
      "cell_type": "code",
      "source": [
        "class SimpleWaterMeterAgent:\n",
        "    def transcribe(self, text):\n",
        "        print(\"Water Meter Agent Starting...\")\n",
        "        print(f\"Input: {text}\")\n",
        "        print()\n",
        "\n",
        "        # THOUGHT\n",
        "        print(\"Thought: I need to find unit names and their readings in this text.\")\n",
        "\n",
        "        # ACTION\n",
        "        print(\"Action: Extract units and numbers using regex pattern.\")\n",
        "        # Pattern matches: \"Unit 19A reads 30\" or \"19B is 5\" etc.\n",
        "        pattern = r'([a-zA-Z0-9]+)\\s+(?:reads|is)\\s+(\\d+)'\n",
        "        matches = re.findall(pattern, text, re.IGNORECASE)\n",
        "\n",
        "        # OBSERVATION\n",
        "        print(f\"Observation: Found {len(matches)} readings: {matches}\")\n",
        "\n",
        "        # THOUGHT\n",
        "        print(\"Thought: Now I need to convert these to JSON format and handle duplicates.\")\n",
        "\n",
        "        # ACTION\n",
        "        print(\"Action: Format as JSON array and ignore duplicates.\")\n",
        "        result = []\n",
        "        seen_units = set()  # Keep track of units already added\n",
        "        for unit, reading in matches:\n",
        "            if unit not in seen_units:\n",
        "                result.append({\"unit\": unit, \"reading\": int(reading)})\n",
        "                seen_units.add(unit)\n",
        "\n",
        "        # OBSERVATION\n",
        "        print(f\"Observation: Created {len(result)} unique JSON entries.\")\n",
        "\n",
        "        # FINAL ANSWER\n",
        "        json_output = json.dumps(result, indent=2)\n",
        "        print(\"Final Answer:\")\n",
        "        print(json_output)\n",
        "\n",
        "        return json_output"
      ],
      "metadata": {
        "id": "O94VOaNyIoGY"
      },
      "execution_count": 26,
      "outputs": []
    },
    {
      "cell_type": "code",
      "source": [
        "# Test the agent\n",
        "if __name__ == \"__main__\":\n",
        "    agent = SimpleWaterMeterAgent()\n",
        "\n",
        "    # Test with the example\n",
        "    # test_text = \"Unit 19A reads 30 cubic meter, 19B is 5 cubic meter, 19C reads 8 cubic meter.\"\n",
        "    user_input = input(\"Enter the water meter readings: \")\n",
        "    agent.transcribe(user_input)"
      ],
      "metadata": {
        "colab": {
          "base_uri": "https://localhost:8080/"
        },
        "id": "ClVxImgvI3IY",
        "outputId": "17779963-a3a7-4912-8192-88211387b81c"
      },
      "execution_count": 27,
      "outputs": [
        {
          "output_type": "stream",
          "name": "stdout",
          "text": [
            "Enter the water meter readings: unit 19A reads 30 cubic meter, 19a reads 30 cubic meter, 19C reads 8 cubic meter\n",
            "Water Meter Agent Starting...\n",
            "Input: unit 19A reads 30 cubic meter, 19a reads 30 cubic meter, 19C reads 8 cubic meter\n",
            "\n",
            "Thought: I need to find unit names and their readings in this text.\n",
            "Action: Extract units and numbers using regex pattern.\n",
            "Observation: Found 3 readings: [('19A', '30'), ('19a', '30'), ('19C', '8')]\n",
            "Thought: Now I need to convert these to JSON format and handle duplicates.\n",
            "Action: Format as JSON array and ignore duplicates.\n",
            "Observation: Created 3 unique JSON entries.\n",
            "Final Answer:\n",
            "[\n",
            "  {\n",
            "    \"unit\": \"19A\",\n",
            "    \"reading\": 30\n",
            "  },\n",
            "  {\n",
            "    \"unit\": \"19a\",\n",
            "    \"reading\": 30\n",
            "  },\n",
            "  {\n",
            "    \"unit\": \"19C\",\n",
            "    \"reading\": 8\n",
            "  }\n",
            "]\n"
          ]
        }
      ]
    }
  ]
}